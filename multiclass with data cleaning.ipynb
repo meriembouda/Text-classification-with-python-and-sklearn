{
 "cells": [
  {
   "cell_type": "markdown",
   "metadata": {},
   "source": [
    "# 1) Préparation de la dataset :\n"
   ]
  },
  {
   "cell_type": "markdown",
   "metadata": {},
   "source": [
    "## 1.1- Importing Libraries And dataset"
   ]
  },
  {
   "cell_type": "code",
   "execution_count": 48,
   "metadata": {},
   "outputs": [],
   "source": [
    "import pandas as pd\n",
    "import nltk\n",
    "from sklearn.model_selection import train_test_split\n",
    "from sklearn.feature_extraction.text import CountVectorizer,  TfidfTransformer\n",
    "from sklearn.metrics import accuracy_score, confusion_matrix\n",
    "import matplotlib.pyplot as plt\n",
    "import re\n",
    "from nltk.corpus import stopwords\n",
    "from bs4 import BeautifulSoup\n",
    "%matplotlib inline"
   ]
  },
  {
   "cell_type": "code",
   "execution_count": 49,
   "metadata": {
    "scrolled": true
   },
   "outputs": [
    {
     "data": {
      "text/html": [
       "<div>\n",
       "<style scoped>\n",
       "    .dataframe tbody tr th:only-of-type {\n",
       "        vertical-align: middle;\n",
       "    }\n",
       "\n",
       "    .dataframe tbody tr th {\n",
       "        vertical-align: top;\n",
       "    }\n",
       "\n",
       "    .dataframe thead th {\n",
       "        text-align: right;\n",
       "    }\n",
       "</style>\n",
       "<table border=\"1\" class=\"dataframe\">\n",
       "  <thead>\n",
       "    <tr style=\"text-align: right;\">\n",
       "      <th></th>\n",
       "      <th>quest</th>\n",
       "      <th>topic</th>\n",
       "      <th>anwer1</th>\n",
       "      <th>answer2</th>\n",
       "      <th>document</th>\n",
       "    </tr>\n",
       "  </thead>\n",
       "  <tbody>\n",
       "    <tr>\n",
       "      <th>0</th>\n",
       "      <td>Why are abortion rights groups concerned on th...</td>\n",
       "      <td>Abortion rights are concerned on the outcome o...</td>\n",
       "      <td>They are worried that thousands of women may d...</td>\n",
       "      <td>The Supreme Court could overturn the 1973 ruli...</td>\n",
       "      <td>6</td>\n",
       "    </tr>\n",
       "    <tr>\n",
       "      <th>1</th>\n",
       "      <td>Why are abortion rights groups opposing the Bu...</td>\n",
       "      <td>Abortion rights groups are opposing the Bush a...</td>\n",
       "      <td>Because they think thousands of women would di...</td>\n",
       "      <td>because they don't want the 1973 ruling to be ...</td>\n",
       "      <td>6</td>\n",
       "    </tr>\n",
       "    <tr>\n",
       "      <th>2</th>\n",
       "      <td>Why are cereal farmers happy about population ...</td>\n",
       "      <td>The cereal farmers are happy about population ...</td>\n",
       "      <td>They are happy because it gives them a large c...</td>\n",
       "      <td>Because there will be more mouths to feed - th...</td>\n",
       "      <td>9</td>\n",
       "    </tr>\n",
       "    <tr>\n",
       "      <th>3</th>\n",
       "      <td>Why are classes likely to be even bigger in th...</td>\n",
       "      <td>Classes are likely to be even bigger in the au...</td>\n",
       "      <td>Because the school population is set to rise b...</td>\n",
       "      <td>The school population will rise by 74,000 and ...</td>\n",
       "      <td>1</td>\n",
       "    </tr>\n",
       "    <tr>\n",
       "      <th>4</th>\n",
       "      <td>Why are classes likely to be even bigger in th...</td>\n",
       "      <td>Classes are likely to be even bigger in the au...</td>\n",
       "      <td>Because of the indications about school admiss...</td>\n",
       "      <td>There will be 74,000 new students, which will ...</td>\n",
       "      <td>1</td>\n",
       "    </tr>\n",
       "  </tbody>\n",
       "</table>\n",
       "</div>"
      ],
      "text/plain": [
       "                                               quest  \\\n",
       "0  Why are abortion rights groups concerned on th...   \n",
       "1  Why are abortion rights groups opposing the Bu...   \n",
       "2  Why are cereal farmers happy about population ...   \n",
       "3  Why are classes likely to be even bigger in th...   \n",
       "4  Why are classes likely to be even bigger in th...   \n",
       "\n",
       "                                               topic  \\\n",
       "0  Abortion rights are concerned on the outcome o...   \n",
       "1  Abortion rights groups are opposing the Bush a...   \n",
       "2  The cereal farmers are happy about population ...   \n",
       "3  Classes are likely to be even bigger in the au...   \n",
       "4  Classes are likely to be even bigger in the au...   \n",
       "\n",
       "                                              anwer1  \\\n",
       "0  They are worried that thousands of women may d...   \n",
       "1  Because they think thousands of women would di...   \n",
       "2  They are happy because it gives them a large c...   \n",
       "3  Because the school population is set to rise b...   \n",
       "4  Because of the indications about school admiss...   \n",
       "\n",
       "                                             answer2  document  \n",
       "0  The Supreme Court could overturn the 1973 ruli...         6  \n",
       "1  because they don't want the 1973 ruling to be ...         6  \n",
       "2  Because there will be more mouths to feed - th...         9  \n",
       "3  The school population will rise by 74,000 and ...         1  \n",
       "4  There will be 74,000 new students, which will ...         1  "
      ]
     },
     "execution_count": 49,
     "metadata": {},
     "output_type": "execute_result"
    }
   ],
   "source": [
    "#Récupération du dataset\n",
    "\n",
    "\n",
    "df = pd.read_csv(\"why-questions+answers.txt\", delimiter =\"\\t\", header=0, index_col=[0],names=['quest','topic','anwer1','answer2','document'])\n",
    "df = df[pd.notnull(df['document'])]\n",
    "df.reset_index(drop = False, inplace = True)\n",
    "df.head(5)\n",
    "\n",
    "#df.shape\n",
    "\n"
   ]
  },
  {
   "cell_type": "markdown",
   "metadata": {},
   "source": [
    "## 1.2- épurer le dataset :\n"
   ]
  },
  {
   "cell_type": "code",
   "execution_count": 50,
   "metadata": {},
   "outputs": [
    {
     "data": {
      "text/html": [
       "<div>\n",
       "<style scoped>\n",
       "    .dataframe tbody tr th:only-of-type {\n",
       "        vertical-align: middle;\n",
       "    }\n",
       "\n",
       "    .dataframe tbody tr th {\n",
       "        vertical-align: top;\n",
       "    }\n",
       "\n",
       "    .dataframe thead th {\n",
       "        text-align: right;\n",
       "    }\n",
       "</style>\n",
       "<table border=\"1\" class=\"dataframe\">\n",
       "  <thead>\n",
       "    <tr style=\"text-align: right;\">\n",
       "      <th></th>\n",
       "      <th>quest</th>\n",
       "      <th>document</th>\n",
       "      <th>category_id</th>\n",
       "    </tr>\n",
       "  </thead>\n",
       "  <tbody>\n",
       "    <tr>\n",
       "      <th>0</th>\n",
       "      <td>Why are abortion rights groups concerned on th...</td>\n",
       "      <td>6</td>\n",
       "      <td>0</td>\n",
       "    </tr>\n",
       "    <tr>\n",
       "      <th>1</th>\n",
       "      <td>Why are abortion rights groups opposing the Bu...</td>\n",
       "      <td>6</td>\n",
       "      <td>0</td>\n",
       "    </tr>\n",
       "    <tr>\n",
       "      <th>2</th>\n",
       "      <td>Why are cereal farmers happy about population ...</td>\n",
       "      <td>9</td>\n",
       "      <td>1</td>\n",
       "    </tr>\n",
       "    <tr>\n",
       "      <th>3</th>\n",
       "      <td>Why are classes likely to be even bigger in th...</td>\n",
       "      <td>1</td>\n",
       "      <td>2</td>\n",
       "    </tr>\n",
       "    <tr>\n",
       "      <th>4</th>\n",
       "      <td>Why are classes likely to be even bigger in th...</td>\n",
       "      <td>1</td>\n",
       "      <td>2</td>\n",
       "    </tr>\n",
       "    <tr>\n",
       "      <th>5</th>\n",
       "      <td>Why are compilers of Spain's answer to the Oxf...</td>\n",
       "      <td>4</td>\n",
       "      <td>3</td>\n",
       "    </tr>\n",
       "    <tr>\n",
       "      <th>6</th>\n",
       "      <td>Why are compilers of the Spanish equivalent to...</td>\n",
       "      <td>4</td>\n",
       "      <td>3</td>\n",
       "    </tr>\n",
       "    <tr>\n",
       "      <th>7</th>\n",
       "      <td>Why are conservatives in the US reluctant to s...</td>\n",
       "      <td>8</td>\n",
       "      <td>4</td>\n",
       "    </tr>\n",
       "    <tr>\n",
       "      <th>8</th>\n",
       "      <td>Why are conservatives raising the issue of the...</td>\n",
       "      <td>8</td>\n",
       "      <td>4</td>\n",
       "    </tr>\n",
       "    <tr>\n",
       "      <th>9</th>\n",
       "      <td>Why are conservatives reraising the issue of t...</td>\n",
       "      <td>8</td>\n",
       "      <td>4</td>\n",
       "    </tr>\n",
       "  </tbody>\n",
       "</table>\n",
       "</div>"
      ],
      "text/plain": [
       "                                               quest  document  category_id\n",
       "0  Why are abortion rights groups concerned on th...         6            0\n",
       "1  Why are abortion rights groups opposing the Bu...         6            0\n",
       "2  Why are cereal farmers happy about population ...         9            1\n",
       "3  Why are classes likely to be even bigger in th...         1            2\n",
       "4  Why are classes likely to be even bigger in th...         1            2\n",
       "5  Why are compilers of Spain's answer to the Oxf...         4            3\n",
       "6  Why are compilers of the Spanish equivalent to...         4            3\n",
       "7  Why are conservatives in the US reluctant to s...         8            4\n",
       "8  Why are conservatives raising the issue of the...         8            4\n",
       "9  Why are conservatives reraising the issue of t...         8            4"
      ]
     },
     "execution_count": 50,
     "metadata": {},
     "output_type": "execute_result"
    }
   ],
   "source": [
    "## On élimine les colonnes dont on a pas besoin\n",
    "\n",
    "col = ['quest', 'document']\n",
    "df = df[col]\n",
    "df.columns = ['quest', 'document']\n",
    "df['category_id'] = df['document'].factorize()[0]\n",
    "df.head(10)\n",
    "#print(df['answer'].apply(lambda x: len(x.split(' '))).sum())    [ just to see how much words there is to work on]"
   ]
  },
  {
   "cell_type": "code",
   "execution_count": null,
   "metadata": {
    "scrolled": true
   },
   "outputs": [],
   "source": []
  },
  {
   "cell_type": "code",
   "execution_count": 51,
   "metadata": {},
   "outputs": [
    {
     "data": {
      "image/png": "[encoded data removed]",
      "text/plain": [
       "<Figure size 720x360 with 1 Axes>"
      ]
     },
     "metadata": {
      "needs_background": "light"
     },
     "output_type": "display_data"
    }
   ],
   "source": [
    "# là on essais de voir si les catégories sont équilibrée ... pas parfaitement dans notre cas\n",
    "\n",
    "\n",
    "fig = plt.figure(figsize=(10,5))\n",
    "df.groupby('document').quest.count().plot.bar(ylim=0)\n",
    "plt.show()"
   ]
  },
  {
   "cell_type": "code",
   "execution_count": 52,
   "metadata": {},
   "outputs": [
    {
     "name": "stdout",
     "output_type": "stream",
     "text": [
      "Why are abortion rights groups opposing the Bush administration and the state of Missouri?\n",
      "document: 6\n"
     ]
    }
   ],
   "source": [
    "# print_plot est une fonction qui renvoit directement la donnée correspendante à l'index entré :\n",
    "\n",
    "def print_plot(index):\n",
    "    example = df[df.index == index][['quest', 'document']].values[0]\n",
    "    if len(example) > 0:\n",
    "        print(example[0])\n",
    "        print('document:', example[1])\n",
    "        \n",
    "\n",
    "print_plot(1)"
   ]
  },
  {
   "cell_type": "markdown",
   "metadata": {},
   "source": [
    "\n"
   ]
  },
  {
   "cell_type": "markdown",
   "metadata": {},
   "source": [
    "## Pre-traitement"
   ]
  },
  {
   "cell_type": "markdown",
   "metadata": {},
   "source": [
    "## 1.3- determiner les regex et épurer les données :"
   ]
  },
  {
   "cell_type": "code",
   "execution_count": 53,
   "metadata": {},
   "outputs": [],
   "source": [
    "# on determine les regex à remplacer ou supprimer du texte:\n",
    "\n",
    "replace = re.compile('[/(){}\\[\\]\\|@,;]')\n",
    "symbols = re.compile('[^0-9a-z #+_]')\n",
    "STOPWORDS = set(stopwords.words('english'))\n",
    "num = re.compile('^[-+]?[0-9]+$')"
   ]
  },
  {
   "cell_type": "code",
   "execution_count": 54,
   "metadata": {},
   "outputs": [],
   "source": [
    "#cleaning data funtion :\n",
    "\n",
    "def clean_text(text):\n",
    "    \n",
    "    text = text.lower() # lowercase text\n",
    "    text = replace.sub(' ', text) # on remplace des caractères par un espace\n",
    "    text = symbols.sub('', text) # on supprime des symboles du texte\n",
    "    text = num.sub('',text)\n",
    "    text = ' '.join(word for word in text.split() if word not in STOPWORDS) \n",
    "    #suppression des stop words\n",
    "    \n",
    "    return text"
   ]
  },
  {
   "cell_type": "code",
   "execution_count": 55,
   "metadata": {},
   "outputs": [
    {
     "name": "stdout",
     "output_type": "stream",
     "text": [
      "Why are abortion rights groups opposing the Bush administration and the state of Missouri?\n",
      "document: 6\n",
      "\n",
      "\n",
      "\n",
      "abortion rights groups opposing bush administration state missouri\n",
      "document: 6\n"
     ]
    }
   ],
   "source": [
    "#juste un teste\n",
    "\n",
    "print_plot(1)\n",
    "df['quest'] = df['quest'].apply(clean_text)\n",
    "print(\"\\n\\n\")\n",
    "print_plot(1)"
   ]
  },
  {
   "cell_type": "markdown",
   "metadata": {},
   "source": [
    "## 1.4- Stemming et Lemmetization : "
   ]
  },
  {
   "cell_type": "code",
   "execution_count": 56,
   "metadata": {},
   "outputs": [
    {
     "name": "stdout",
     "output_type": "stream",
     "text": [
      "BEFOR : \n",
      "abortion rights groups concerned outcome supreme courts decision\n",
      "\n",
      "******\n",
      "\n",
      "AFTER : \n",
      "abort right group concern outcom suprem court decis \n"
     ]
    }
   ],
   "source": [
    "# Stemming and lemmetization\n",
    "from nltk.stem import PorterStemmer\n",
    "from nltk.tokenize import word_tokenize\n",
    "\n",
    "questions = df['quest'].tolist()\n",
    "\n",
    "sno = nltk.stem.SnowballStemmer('english')\n",
    "lemma = nltk.wordnet.WordNetLemmatizer()\n",
    "\n",
    "\n",
    "def sentStem(text):\n",
    "    stem_sent = []\n",
    "    \n",
    "    words = word_tokenize(text)\n",
    "    \n",
    "    for w in words:\n",
    "        w = lemma.lemmatize(w)\n",
    "        stem_sent.append(sno.stem(w))\n",
    "        stem_sent.append(\" \")\n",
    "        \n",
    "    return \"\".join(stem_sent)  \n",
    "\n",
    "\n",
    "# TEST :\n",
    "print(\"BEFOR : \")\n",
    "print(questions[0])\n",
    "print (\"\\n******\\n\")\n",
    "print(\"AFTER : \")\n",
    "print(sentStem(questions[0]))\n",
    "\n"
   ]
  },
  {
   "cell_type": "markdown",
   "metadata": {},
   "source": [
    "##  Dictionnaire de correspendance (needed pour plutard)  :\n"
   ]
  },
  {
   "cell_type": "raw",
   "metadata": {},
   "source": [
    "on va le créer manuellement, on aurait pu créer une colonne CATEGORYid : \n",
    "et ensuite créer les dictionnaire de correspendance : \n",
    "\n",
    "\n",
    "category_to_id = dict(category_id_df.values)\n",
    "id_to_category = dict(category_id_df[['category_id', 'category']].values)\n",
    "\n",
    "\n",
    "mais ça ne sert à rien puisque nos catégories sont déjà numériques et les titres des documents doivent être entrés manuellement "
   ]
  },
  {
   "cell_type": "code",
   "execution_count": 57,
   "metadata": {},
   "outputs": [],
   "source": [
    "# dictionnaire du in au titre du document : \n",
    "\n",
    "category_id_df = df[['document', 'category_id']].drop_duplicates().sort_values('document')\n",
    "\n",
    "id_to_doc = dict()\n",
    "id_to_doc = {  1 : 'Guardian_BigClasses.txt',\n",
    "             2: 'Guardian_Elections.txt',\n",
    "             3 : 'Guardian_McDonalds.txt',\n",
    "              4 : 'Guardian_SpanishDict.txt',\n",
    "               5 :  'Guardian_Windows3.txt',\n",
    "               6 : 'Reuters_Abortion.txt',\n",
    "               7:  'Reuters_Azerbaijan.txt',\n",
    "               8:  'Reuters_Canal.txt',\n",
    "               9:  'Reuters_Population.txt',\n",
    "               10: 'Reuters_SecretPolice.txt'}\n",
    "\n",
    "\n",
    "# dictionnaire du titre au id : \n",
    "doc_to_id = dict()\n",
    "doc_to_id = id_to_doc = { 'Guardian_BigClasses.txt':  1,\n",
    "               'Guardian_Elections.txt':  2,\n",
    "              'Guardian_McDonalds.txt': 3,\n",
    "             'Guardian_SpanishDict.txt':  4, \n",
    "               'Guardian_Windows3.txt':  5,\n",
    "             'Reuters_Abortion.txt':  6,\n",
    "             'Reuters_Azerbaijan.txt':  7,\n",
    "             'Reuters_Canal.txt':  8,\n",
    "            'Reuters_Population.txt':  9,\n",
    "             'Reuters_SecretPolice.txt':  10}\n",
    "\n"
   ]
  },
  {
   "cell_type": "raw",
   "metadata": {},
   "source": [
    "We cleaned data, prepared the dataset for ML algorithms ... let's do it !\n"
   ]
  },
  {
   "cell_type": "markdown",
   "metadata": {},
   "source": [
    "# 1.4 feature extraction (Représentation par TF-IDF)"
   ]
  },
  {
   "cell_type": "code",
   "execution_count": 58,
   "metadata": {},
   "outputs": [
    {
     "data": {
      "text/plain": [
       "(394, 104)"
      ]
     },
     "execution_count": 58,
     "metadata": {},
     "output_type": "execute_result"
    }
   ],
   "source": [
    "from sklearn.feature_extraction.text import TfidfVectorizer\n",
    "from sklearn.feature_extraction.text import TfidfTransformer\n",
    "\n",
    "tfidf = TfidfVectorizer(sublinear_tf=True, min_df=5, norm='l2', encoding='latin-1', ngram_range=(1, 2), stop_words='english')\n",
    "\n",
    "features = tfidf.fit_transform(df.quest).toarray()\n",
    "\n",
    "labels = df.document\n",
    "features.shape\n",
    "#print(features[8])"
   ]
  },
  {
   "cell_type": "markdown",
   "metadata": {},
   "source": [
    "# 2) Application des algorithmes : \n"
   ]
  },
  {
   "cell_type": "markdown",
   "metadata": {},
   "source": [
    "## 2.1- Spliting dataset for training the models :"
   ]
  },
  {
   "cell_type": "code",
   "execution_count": 59,
   "metadata": {},
   "outputs": [],
   "source": [
    "#NEDED !! \n",
    "cat=[ 'Document 1 : Guardian_BigClasses',\n",
    "               'Document 2 : Guardian Elections',\n",
    "              'Document 3 : Guardian McDonalds',\n",
    "             'Document 4 : Guardian SpanishDict', \n",
    "               'Document 5 : Guardian Windows3',\n",
    "             'Document 6 : Reuters Abortion',\n",
    "             'Document 7 : Reuters Azerbaijan',\n",
    "             'Document 8 : Reuters Canal ',\n",
    "            'Document 9 : Reuters Population',\n",
    "             'Document 10 : Reuters SecretPolice']\n"
   ]
  },
  {
   "cell_type": "code",
   "execution_count": 60,
   "metadata": {},
   "outputs": [],
   "source": [
    "from sklearn.model_selection import train_test_split\n",
    "x = df.quest\n",
    "y = df.document\n",
    "\n",
    "x_train, x_test, y_train, y_test = train_test_split(df['quest'], df['document'], random_state = 0)\n",
    "\n"
   ]
  },
  {
   "cell_type": "markdown",
   "metadata": {},
   "source": [
    "## Algo 1- Naive Bayes : "
   ]
  },
  {
   "cell_type": "code",
   "execution_count": 61,
   "metadata": {},
   "outputs": [
    {
     "name": "stdout",
     "output_type": "stream",
     "text": [
      "précision 0.9090909090909091\n"
     ]
    }
   ],
   "source": [
    "from sklearn.naive_bayes import MultinomialNB\n",
    "from sklearn.pipeline import Pipeline\n",
    "\n",
    "naive_bayes = Pipeline([('vect', CountVectorizer()),\n",
    "               ('tfidf', TfidfTransformer()),\n",
    "               ('clasf', MultinomialNB()),\n",
    "              ])\n",
    "\n",
    "naive_bayes.fit(x_train, y_train)\n",
    "\n",
    "\n",
    "from sklearn.metrics import classification_report\n",
    "y_pred = naive_bayes.predict(x_test)\n",
    "\n",
    "print('précision %s' % accuracy_score(y_pred, y_test))\n",
    "#print(classification_report(y_test, y_pred,target_names=cat))"
   ]
  },
  {
   "cell_type": "markdown",
   "metadata": {},
   "source": [
    "## Algo 2- SGD :"
   ]
  },
  {
   "cell_type": "code",
   "execution_count": 62,
   "metadata": {},
   "outputs": [
    {
     "name": "stdout",
     "output_type": "stream",
     "text": [
      "précision 0.9595959595959596\n",
      "                                    precision    recall  f1-score   support\n",
      "\n",
      "  Document 1 : Guardian_BigClasses       0.82      1.00      0.90         9\n",
      "   Document 2 : Guardian Elections       1.00      1.00      1.00         6\n",
      "   Document 3 : Guardian McDonalds       0.94      1.00      0.97        17\n",
      " Document 4 : Guardian SpanishDict       1.00      1.00      1.00        14\n",
      "    Document 5 : Guardian Windows3       0.92      0.92      0.92        13\n",
      "     Document 6 : Reuters Abortion       1.00      0.75      0.86         8\n",
      "   Document 7 : Reuters Azerbaijan       1.00      1.00      1.00         8\n",
      "       Document 8 : Reuters Canal        1.00      1.00      1.00         6\n",
      "   Document 9 : Reuters Population       1.00      0.92      0.96        12\n",
      "Document 10 : Reuters SecretPolice       1.00      1.00      1.00         6\n",
      "\n",
      "                         micro avg       0.96      0.96      0.96        99\n",
      "                         macro avg       0.97      0.96      0.96        99\n",
      "                      weighted avg       0.96      0.96      0.96        99\n",
      "\n"
     ]
    },
    {
     "name": "stderr",
     "output_type": "stream",
     "text": [
      "C:\\Users\\PC\\Anaconda3\\lib\\site-packages\\sklearn\\linear_model\\stochastic_gradient.py:183: FutureWarning: max_iter and tol parameters have been added in SGDClassifier in 0.19. If max_iter is set but tol is left unset, the default value for tol in 0.19 and 0.20 will be None (which is equivalent to -infinity, so it has no effect) but will change in 0.21 to 1e-3. Specify tol to silence this warning.\n",
      "  FutureWarning)\n"
     ]
    }
   ],
   "source": [
    "\n",
    "from sklearn.linear_model import SGDClassifier\n",
    "\n",
    "sgd = Pipeline([('vect', CountVectorizer()),\n",
    "                ('tfidf', TfidfTransformer()),\n",
    "                ('clf', SGDClassifier(loss='hinge', penalty='l2',alpha=1e-3, random_state=42, max_iter=5, tol=None)),\n",
    "               ])\n",
    "sgd.fit(x_train, y_train)\n",
    "\n",
    "\n",
    "y_pred = sgd.predict(x_test)\n",
    "\n",
    "print('précision %s' % accuracy_score(y_pred, y_test))\n",
    "print(classification_report(y_test, y_pred,target_names=cat))"
   ]
  },
  {
   "cell_type": "markdown",
   "metadata": {},
   "source": [
    "## Algo 3- Logistic regression"
   ]
  },
  {
   "cell_type": "code",
   "execution_count": 63,
   "metadata": {},
   "outputs": [
    {
     "name": "stdout",
     "output_type": "stream",
     "text": [
      "précision 0.9494949494949495\n",
      "                                    precision    recall  f1-score   support\n",
      "\n",
      "  Document 1 : Guardian_BigClasses       0.82      1.00      0.90         9\n",
      "   Document 2 : Guardian Elections       1.00      1.00      1.00         6\n",
      "   Document 3 : Guardian McDonalds       1.00      0.94      0.97        17\n",
      " Document 4 : Guardian SpanishDict       1.00      1.00      1.00        14\n",
      "    Document 5 : Guardian Windows3       0.86      0.92      0.89        13\n",
      "     Document 6 : Reuters Abortion       1.00      0.75      0.86         8\n",
      "   Document 7 : Reuters Azerbaijan       1.00      1.00      1.00         8\n",
      "       Document 8 : Reuters Canal        1.00      1.00      1.00         6\n",
      "   Document 9 : Reuters Population       0.92      0.92      0.92        12\n",
      "Document 10 : Reuters SecretPolice       1.00      1.00      1.00         6\n",
      "\n",
      "                         micro avg       0.95      0.95      0.95        99\n",
      "                         macro avg       0.96      0.95      0.95        99\n",
      "                      weighted avg       0.95      0.95      0.95        99\n",
      "\n"
     ]
    },
    {
     "name": "stderr",
     "output_type": "stream",
     "text": [
      "C:\\Users\\PC\\Anaconda3\\lib\\site-packages\\sklearn\\linear_model\\logistic.py:433: FutureWarning: Default solver will be changed to 'lbfgs' in 0.22. Specify a solver to silence this warning.\n",
      "  FutureWarning)\n",
      "C:\\Users\\PC\\Anaconda3\\lib\\site-packages\\sklearn\\linear_model\\logistic.py:460: FutureWarning: Default multi_class will be changed to 'auto' in 0.22. Specify the multi_class option to silence this warning.\n",
      "  \"this warning.\", FutureWarning)\n"
     ]
    }
   ],
   "source": [
    "\n",
    "from sklearn.linear_model import LogisticRegression\n",
    "\n",
    "logreg = Pipeline([('vect', CountVectorizer()),\n",
    "                ('tfidf', TfidfTransformer()),\n",
    "                ('clf', LogisticRegression(n_jobs=1, C=1e5)),\n",
    "               ])\n",
    "logreg.fit(x_train, y_train)\n",
    "\n",
    "\n",
    "y_pred = logreg.predict(x_test)\n",
    "\n",
    "print('précision %s' % accuracy_score(y_pred, y_test))\n",
    "print(classification_report(y_test, y_pred,target_names=cat))"
   ]
  },
  {
   "cell_type": "markdown",
   "metadata": {},
   "source": [
    "## Comparaison de 4 algorithmes : \n"
   ]
  },
  {
   "cell_type": "code",
   "execution_count": 64,
   "metadata": {},
   "outputs": [
    {
     "name": "stderr",
     "output_type": "stream",
     "text": [
      "C:\\Users\\PC\\Anaconda3\\lib\\site-packages\\sklearn\\linear_model\\logistic.py:433: FutureWarning: Default solver will be changed to 'lbfgs' in 0.22. Specify a solver to silence this warning.\n",
      "  FutureWarning)\n",
      "C:\\Users\\PC\\Anaconda3\\lib\\site-packages\\sklearn\\linear_model\\logistic.py:460: FutureWarning: Default multi_class will be changed to 'auto' in 0.22. Specify the multi_class option to silence this warning.\n",
      "  \"this warning.\", FutureWarning)\n",
      "C:\\Users\\PC\\Anaconda3\\lib\\site-packages\\sklearn\\linear_model\\logistic.py:433: FutureWarning: Default solver will be changed to 'lbfgs' in 0.22. Specify a solver to silence this warning.\n",
      "  FutureWarning)\n",
      "C:\\Users\\PC\\Anaconda3\\lib\\site-packages\\sklearn\\linear_model\\logistic.py:460: FutureWarning: Default multi_class will be changed to 'auto' in 0.22. Specify the multi_class option to silence this warning.\n",
      "  \"this warning.\", FutureWarning)\n",
      "C:\\Users\\PC\\Anaconda3\\lib\\site-packages\\sklearn\\linear_model\\logistic.py:433: FutureWarning: Default solver will be changed to 'lbfgs' in 0.22. Specify a solver to silence this warning.\n",
      "  FutureWarning)\n",
      "C:\\Users\\PC\\Anaconda3\\lib\\site-packages\\sklearn\\linear_model\\logistic.py:460: FutureWarning: Default multi_class will be changed to 'auto' in 0.22. Specify the multi_class option to silence this warning.\n",
      "  \"this warning.\", FutureWarning)\n",
      "C:\\Users\\PC\\Anaconda3\\lib\\site-packages\\sklearn\\linear_model\\logistic.py:433: FutureWarning: Default solver will be changed to 'lbfgs' in 0.22. Specify a solver to silence this warning.\n",
      "  FutureWarning)\n",
      "C:\\Users\\PC\\Anaconda3\\lib\\site-packages\\sklearn\\linear_model\\logistic.py:460: FutureWarning: Default multi_class will be changed to 'auto' in 0.22. Specify the multi_class option to silence this warning.\n",
      "  \"this warning.\", FutureWarning)\n",
      "C:\\Users\\PC\\Anaconda3\\lib\\site-packages\\sklearn\\linear_model\\logistic.py:433: FutureWarning: Default solver will be changed to 'lbfgs' in 0.22. Specify a solver to silence this warning.\n",
      "  FutureWarning)\n",
      "C:\\Users\\PC\\Anaconda3\\lib\\site-packages\\sklearn\\linear_model\\logistic.py:460: FutureWarning: Default multi_class will be changed to 'auto' in 0.22. Specify the multi_class option to silence this warning.\n",
      "  \"this warning.\", FutureWarning)\n"
     ]
    }
   ],
   "source": [
    "from sklearn.linear_model import LogisticRegression\n",
    "from sklearn.ensemble import RandomForestClassifier\n",
    "from sklearn.neighbors import KNeighborsClassifier\n",
    "from sklearn.svm import LinearSVC\n",
    "from sklearn.naive_bayes import MultinomialNB\n",
    "from sklearn.model_selection import cross_val_score\n",
    "import seaborn as sns\n",
    "\n",
    "    #****************************************\n",
    "# on crée un lite des model que nous voulons comparer :\n",
    "\n",
    "models = [\n",
    "    RandomForestClassifier(n_estimators=200, max_depth=3, random_state=0),\n",
    "    LinearSVC(),\n",
    "    MultinomialNB(),\n",
    "    LogisticRegression(random_state=0),\n",
    "    KNeighborsClassifier(n_neighbors=5),\n",
    "    \n",
    "]\n",
    "\n",
    "CV = 5 #Pour refaire la prédiction 5 fois et donc avoir des résultats de précisions plus optimaux\n",
    "\n",
    "cv_df = pd.DataFrame(index=range(CV * len(models)))\n",
    "\n",
    "entries = []\n",
    "\n",
    "for model in models:\n",
    "    model_name = model.__class__.__name__\n",
    "    accuracies = cross_val_score(model, features, labels, scoring='accuracy', cv=CV)\n",
    "    for fold_idx, accuracy in enumerate(accuracies):\n",
    "        entries.append((model_name, fold_idx, accuracy))\n",
    "\n",
    "        \n"
   ]
  },
  {
   "cell_type": "code",
   "execution_count": 74,
   "metadata": {},
   "outputs": [
    {
     "name": "stdout",
     "output_type": "stream",
     "text": [
      "              nom du model  itération  précision\n",
      "0   RandomForestClassifier          0   0.530120\n",
      "1   RandomForestClassifier          1   0.556962\n",
      "2   RandomForestClassifier          2   0.569620\n",
      "3   RandomForestClassifier          3   0.662338\n",
      "4   RandomForestClassifier          4   0.526316\n",
      "5                LinearSVC          0   0.807229\n",
      "6                LinearSVC          1   0.734177\n",
      "7                LinearSVC          2   0.848101\n",
      "8                LinearSVC          3   0.896104\n",
      "9                LinearSVC          4   0.855263\n",
      "10           MultinomialNB          0   0.795181\n",
      "11           MultinomialNB          1   0.734177\n",
      "12           MultinomialNB          2   0.860759\n",
      "13           MultinomialNB          3   0.883117\n",
      "14           MultinomialNB          4   0.776316\n",
      "15      LogisticRegression          0   0.783133\n",
      "16      LogisticRegression          1   0.746835\n",
      "17      LogisticRegression          2   0.873418\n",
      "18      LogisticRegression          3   0.896104\n",
      "19      LogisticRegression          4   0.789474\n",
      "20    KNeighborsClassifier          0   0.759036\n",
      "21    KNeighborsClassifier          1   0.721519\n",
      "22    KNeighborsClassifier          2   0.746835\n",
      "23    KNeighborsClassifier          3   0.805195\n",
      "24    KNeighborsClassifier          4   0.684211\n"
     ]
    },
    {
     "data": {
      "image/png": "[encoded data removed]",
      "text/plain": [
       "<Figure size 432x288 with 1 Axes>"
      ]
     },
     "metadata": {
      "needs_background": "light"
     },
     "output_type": "display_data"
    }
   ],
   "source": [
    "#on crée une datafram pour stocker les résultats des models :        \n",
    "cv_df = pd.DataFrame(entries, columns=['nom du model', 'itération', 'précision']) \n",
    "\n",
    "print(cv_df)\n",
    "\n",
    "sns.boxplot(x='nom du model', y='précision', data=cv_df)\n",
    "\n",
    "sns.stripplot(x='nom du model', y='précision', data=cv_df, \n",
    "              size=8, jitter=True, edgecolor=\"grey\", linewidth=2)\n",
    "plt.show()\n"
   ]
  },
  {
   "cell_type": "markdown",
   "metadata": {},
   "source": [
    "# évaluation du model (Linear SVC avec matrice de confusion):\n"
   ]
  },
  {
   "cell_type": "code",
   "execution_count": 73,
   "metadata": {
    "scrolled": true
   },
   "outputs": [
    {
     "data": {
      "image/png": "[encoded data removed]",
      "text/plain": [
       "<Figure size 720x720 with 2 Axes>"
      ]
     },
     "metadata": {
      "needs_background": "light"
     },
     "output_type": "display_data"
    }
   ],
   "source": [
    "#linear SVC : \n",
    "from sklearn.metrics import confusion_matrix\n",
    "\n",
    "\n",
    "model = LinearSVC()\n",
    "\n",
    "x_train, x_test, y_train, y_test, indices_train, indices_test = train_test_split(features, labels, df.index, test_size=0.33, random_state=0)\n",
    "model.fit(x_train, y_train)\n",
    "y_pred = model.predict(x_test)\n",
    "\n",
    "#print(category_id_df)\n",
    "\n",
    "conf_mat = confusion_matrix(y_test, y_pred)\n",
    "fig, ax = plt.subplots(figsize=(10,10))\n",
    "sns.heatmap(conf_mat, annot=True, fmt='d',\n",
    "            xticklabels=category_id_df.document.values, yticklabels=category_id_df.document.values)\n",
    "\n",
    "\n",
    "# Affichage\n",
    "plt.ylabel(\"résultat correcete\")\n",
    "plt.xlabel('résultat Prédit')\n",
    "plt.show()"
   ]
  },
  {
   "cell_type": "markdown",
   "metadata": {},
   "source": [
    "#  Interface Graphique \n"
   ]
  },
  {
   "cell_type": "code",
   "execution_count": 3,
   "metadata": {},
   "outputs": [],
   "source": [
    "from tkinter import *"
   ]
  },
  {
   "cell_type": "code",
   "execution_count": 4,
   "metadata": {},
   "outputs": [],
   "source": [
    "#functions : \n",
    "\n",
    "def classify():\n",
    "    txt_entre=texte.get() #on récup le texte\n",
    "    "
   ]
  },
  {
   "cell_type": "code",
   "execution_count": 7,
   "metadata": {},
   "outputs": [],
   "source": [
    "# On crée une fenêtre, racine de notre interface\n",
    "fenetre = Tk()\n",
    "fenetre.title(\"teste du model\")\n",
    "fenetre.configure(background=\"white\")\n",
    "\n",
    "\n",
    "# On crée un label (ligne de texte) souhaitant la bienvenue\n",
    "# Note : le premier paramètre passé au constructeur de Label est notre interface racine\n",
    "champ_label = Label(fenetre, text=\"Classification de text\",bg=\"white\",fg=\"black\")\n",
    "champ_label.pack()\n",
    "\n",
    "\n",
    "#la bare de texte : \n",
    "texte= Entry(fenetre,width=90,bg=\"white\")\n",
    "texte.pack()\n",
    "\n",
    "#Bouton classifier : \n",
    "bout_class= Button(fenetre,text=\"Classifier le texte\",width=20,command=classify)\n",
    "bout_class.pack()\n",
    "\n",
    "\n",
    "# On démarre la boucle Tkinter qui s'interompt quand on ferme la fenêtre\n",
    "fenetre.mainloop()"
   ]
  },
  {
   "cell_type": "code",
   "execution_count": null,
   "metadata": {},
   "outputs": [],
   "source": [
    "\n"
   ]
  },
  {
   "cell_type": "code",
   "execution_count": null,
   "metadata": {},
   "outputs": [],
   "source": []
  }
 ],
 "metadata": {
  "kernelspec": {
   "display_name": "Python 3",
   "language": "python",
   "name": "python3"
  },
  "language_info": {
   "codemirror_mode": {
    "name": "ipython",
    "version": 3
   },
   "file_extension": ".py",
   "mimetype": "text/x-python",
   "name": "python",
   "nbconvert_exporter": "python",
   "pygments_lexer": "ipython3",
   "version": "3.7.1"
  }
 },
 "nbformat": 4,
 "nbformat_minor": 2
}
