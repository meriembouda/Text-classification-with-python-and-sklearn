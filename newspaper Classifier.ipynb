{
 "cells": [
  {
   "cell_type": "markdown",
   "metadata": {},
   "source": [
    "# 1) Préparation de la dataset :\n"
   ]
  },
  {
   "cell_type": "markdown",
   "metadata": {},
   "source": [
    "## 1.1- Importing Libraries And dataset"
   ]
  },
  {
   "cell_type": "code",
   "execution_count": 477,
   "metadata": {},
   "outputs": [],
   "source": [
    "import logging\n",
    "import pandas as pd\n",
    "import numpy as np\n",
    "from numpy import random\n",
    "import nltk\n",
    "from sklearn.model_selection import train_test_split\n",
    "from sklearn.feature_extraction.text import CountVectorizer, TfidfVectorizer\n",
    "from sklearn.metrics import accuracy_score, confusion_matrix\n",
    "import matplotlib.pyplot as plt\n",
    "from nltk.corpus import stopwords\n",
    "import re\n",
    "from bs4 import BeautifulSoup\n",
    "%matplotlib inline"
   ]
  },
  {
   "cell_type": "code",
   "execution_count": 478,
   "metadata": {
    "scrolled": true
   },
   "outputs": [
    {
     "data": {
      "text/html": [
       "<div>\n",
       "<style scoped>\n",
       "    .dataframe tbody tr th:only-of-type {\n",
       "        vertical-align: middle;\n",
       "    }\n",
       "\n",
       "    .dataframe tbody tr th {\n",
       "        vertical-align: top;\n",
       "    }\n",
       "\n",
       "    .dataframe thead th {\n",
       "        text-align: right;\n",
       "    }\n",
       "</style>\n",
       "<table border=\"1\" class=\"dataframe\">\n",
       "  <thead>\n",
       "    <tr style=\"text-align: right;\">\n",
       "      <th></th>\n",
       "      <th>quest</th>\n",
       "      <th>topic</th>\n",
       "      <th>anwer1</th>\n",
       "      <th>answer2</th>\n",
       "      <th>document</th>\n",
       "    </tr>\n",
       "  </thead>\n",
       "  <tbody>\n",
       "    <tr>\n",
       "      <th>0</th>\n",
       "      <td>Why are abortion rights groups concerned on th...</td>\n",
       "      <td>Abortion rights are concerned on the outcome o...</td>\n",
       "      <td>They are worried that thousands of women may d...</td>\n",
       "      <td>The Supreme Court could overturn the 1973 ruli...</td>\n",
       "      <td>6</td>\n",
       "    </tr>\n",
       "    <tr>\n",
       "      <th>1</th>\n",
       "      <td>Why are abortion rights groups opposing the Bu...</td>\n",
       "      <td>Abortion rights groups are opposing the Bush a...</td>\n",
       "      <td>Because they think thousands of women would di...</td>\n",
       "      <td>because they don't want the 1973 ruling to be ...</td>\n",
       "      <td>6</td>\n",
       "    </tr>\n",
       "    <tr>\n",
       "      <th>2</th>\n",
       "      <td>Why are cereal farmers happy about population ...</td>\n",
       "      <td>The cereal farmers are happy about population ...</td>\n",
       "      <td>They are happy because it gives them a large c...</td>\n",
       "      <td>Because there will be more mouths to feed - th...</td>\n",
       "      <td>9</td>\n",
       "    </tr>\n",
       "    <tr>\n",
       "      <th>3</th>\n",
       "      <td>Why are classes likely to be even bigger in th...</td>\n",
       "      <td>Classes are likely to be even bigger in the au...</td>\n",
       "      <td>Because the school population is set to rise b...</td>\n",
       "      <td>The school population will rise by 74,000 and ...</td>\n",
       "      <td>1</td>\n",
       "    </tr>\n",
       "    <tr>\n",
       "      <th>4</th>\n",
       "      <td>Why are classes likely to be even bigger in th...</td>\n",
       "      <td>Classes are likely to be even bigger in the au...</td>\n",
       "      <td>Because of the indications about school admiss...</td>\n",
       "      <td>There will be 74,000 new students, which will ...</td>\n",
       "      <td>1</td>\n",
       "    </tr>\n",
       "  </tbody>\n",
       "</table>\n",
       "</div>"
      ],
      "text/plain": [
       "                                               quest  \\\n",
       "0  Why are abortion rights groups concerned on th...   \n",
       "1  Why are abortion rights groups opposing the Bu...   \n",
       "2  Why are cereal farmers happy about population ...   \n",
       "3  Why are classes likely to be even bigger in th...   \n",
       "4  Why are classes likely to be even bigger in th...   \n",
       "\n",
       "                                               topic  \\\n",
       "0  Abortion rights are concerned on the outcome o...   \n",
       "1  Abortion rights groups are opposing the Bush a...   \n",
       "2  The cereal farmers are happy about population ...   \n",
       "3  Classes are likely to be even bigger in the au...   \n",
       "4  Classes are likely to be even bigger in the au...   \n",
       "\n",
       "                                              anwer1  \\\n",
       "0  They are worried that thousands of women may d...   \n",
       "1  Because they think thousands of women would di...   \n",
       "2  They are happy because it gives them a large c...   \n",
       "3  Because the school population is set to rise b...   \n",
       "4  Because of the indications about school admiss...   \n",
       "\n",
       "                                             answer2  document  \n",
       "0  The Supreme Court could overturn the 1973 ruli...         6  \n",
       "1  because they don't want the 1973 ruling to be ...         6  \n",
       "2  Because there will be more mouths to feed - th...         9  \n",
       "3  The school population will rise by 74,000 and ...         1  \n",
       "4  There will be 74,000 new students, which will ...         1  "
      ]
     },
     "execution_count": 478,
     "metadata": {},
     "output_type": "execute_result"
    }
   ],
   "source": [
    "df = pd.read_csv(\"why-questions+answers.txt\", delimiter =\"\\t\", header=0, index_col=[0],names=['quest','topic','anwer1','answer2','document'])\n",
    "df = df[pd.notnull(df['document'])]\n",
    "df.reset_index(drop = False, inplace = True)\n",
    "df.head(5)\n",
    "\n",
    "#df.shape\n",
    "\n"
   ]
  },
  {
   "cell_type": "markdown",
   "metadata": {},
   "source": [
    "## 1.2- épurer la dataset :\n"
   ]
  },
  {
   "cell_type": "code",
   "execution_count": 481,
   "metadata": {},
   "outputs": [
    {
     "data": {
      "text/html": [
       "<div>\n",
       "<style scoped>\n",
       "    .dataframe tbody tr th:only-of-type {\n",
       "        vertical-align: middle;\n",
       "    }\n",
       "\n",
       "    .dataframe tbody tr th {\n",
       "        vertical-align: top;\n",
       "    }\n",
       "\n",
       "    .dataframe thead th {\n",
       "        text-align: right;\n",
       "    }\n",
       "</style>\n",
       "<table border=\"1\" class=\"dataframe\">\n",
       "  <thead>\n",
       "    <tr style=\"text-align: right;\">\n",
       "      <th></th>\n",
       "      <th>quest</th>\n",
       "      <th>document</th>\n",
       "      <th>category_id</th>\n",
       "    </tr>\n",
       "  </thead>\n",
       "  <tbody>\n",
       "    <tr>\n",
       "      <th>0</th>\n",
       "      <td>Why are abortion rights groups concerned on th...</td>\n",
       "      <td>6</td>\n",
       "      <td>0</td>\n",
       "    </tr>\n",
       "    <tr>\n",
       "      <th>1</th>\n",
       "      <td>Why are abortion rights groups opposing the Bu...</td>\n",
       "      <td>6</td>\n",
       "      <td>0</td>\n",
       "    </tr>\n",
       "    <tr>\n",
       "      <th>2</th>\n",
       "      <td>Why are cereal farmers happy about population ...</td>\n",
       "      <td>9</td>\n",
       "      <td>1</td>\n",
       "    </tr>\n",
       "    <tr>\n",
       "      <th>3</th>\n",
       "      <td>Why are classes likely to be even bigger in th...</td>\n",
       "      <td>1</td>\n",
       "      <td>2</td>\n",
       "    </tr>\n",
       "    <tr>\n",
       "      <th>4</th>\n",
       "      <td>Why are classes likely to be even bigger in th...</td>\n",
       "      <td>1</td>\n",
       "      <td>2</td>\n",
       "    </tr>\n",
       "    <tr>\n",
       "      <th>5</th>\n",
       "      <td>Why are compilers of Spain's answer to the Oxf...</td>\n",
       "      <td>4</td>\n",
       "      <td>3</td>\n",
       "    </tr>\n",
       "    <tr>\n",
       "      <th>6</th>\n",
       "      <td>Why are compilers of the Spanish equivalent to...</td>\n",
       "      <td>4</td>\n",
       "      <td>3</td>\n",
       "    </tr>\n",
       "    <tr>\n",
       "      <th>7</th>\n",
       "      <td>Why are conservatives in the US reluctant to s...</td>\n",
       "      <td>8</td>\n",
       "      <td>4</td>\n",
       "    </tr>\n",
       "    <tr>\n",
       "      <th>8</th>\n",
       "      <td>Why are conservatives raising the issue of the...</td>\n",
       "      <td>8</td>\n",
       "      <td>4</td>\n",
       "    </tr>\n",
       "    <tr>\n",
       "      <th>9</th>\n",
       "      <td>Why are conservatives reraising the issue of t...</td>\n",
       "      <td>8</td>\n",
       "      <td>4</td>\n",
       "    </tr>\n",
       "  </tbody>\n",
       "</table>\n",
       "</div>"
      ],
      "text/plain": [
       "                                               quest  document  category_id\n",
       "0  Why are abortion rights groups concerned on th...         6            0\n",
       "1  Why are abortion rights groups opposing the Bu...         6            0\n",
       "2  Why are cereal farmers happy about population ...         9            1\n",
       "3  Why are classes likely to be even bigger in th...         1            2\n",
       "4  Why are classes likely to be even bigger in th...         1            2\n",
       "5  Why are compilers of Spain's answer to the Oxf...         4            3\n",
       "6  Why are compilers of the Spanish equivalent to...         4            3\n",
       "7  Why are conservatives in the US reluctant to s...         8            4\n",
       "8  Why are conservatives raising the issue of the...         8            4\n",
       "9  Why are conservatives reraising the issue of t...         8            4"
      ]
     },
     "execution_count": 481,
     "metadata": {},
     "output_type": "execute_result"
    }
   ],
   "source": [
    "## On élimine les colonnes dont on a pas besoin\n",
    "\n",
    "col = ['quest', 'document']\n",
    "df = df[col]\n",
    "df.columns = ['quest', 'document']\n",
    "df['category_id'] = df['document'].factorize()[0]\n",
    "df.head(10)\n",
    "#print(df['answer'].apply(lambda x: len(x.split(' '))).sum())    [ just to see how much words there is to work on]"
   ]
  },
  {
   "cell_type": "code",
   "execution_count": 512,
   "metadata": {},
   "outputs": [
    {
     "data": {
      "image/png": "[encoded data removed]",
      "text/plain": [
       "<Figure size 720x360 with 1 Axes>"
      ]
     },
     "metadata": {
      "needs_background": "light"
     },
     "output_type": "display_data"
    }
   ],
   "source": [
    "# là on essais de voir si les catégories sont équilibrée \n",
    "\n",
    "\n",
    "fig = plt.figure(figsize=(10,5))\n",
    "df.groupby('document').quest.count().plot.bar(ylim=0)\n",
    "plt.show()"
   ]
  },
  {
   "cell_type": "code",
   "execution_count": 514,
   "metadata": {},
   "outputs": [],
   "source": [
    "# print_plot est une fonction qui renvoit directement la donnée à classifier correspendante à l'index :\n",
    "\n",
    "def print_plot(index):\n",
    "    example = df[df.index == index][['quest', 'document']].values[0]\n",
    "    if len(example) > 0:\n",
    "        print(example[0])\n",
    "        print('document:', example[1])\n",
    "        \n",
    "\n",
    "#print_plot(10)"
   ]
  },
  {
   "cell_type": "markdown",
   "metadata": {},
   "source": [
    "# 2) Data Cleaning\n"
   ]
  },
  {
   "cell_type": "markdown",
   "metadata": {},
   "source": [
    "## 2.1- determiner les regex et épurer les données :"
   ]
  },
  {
   "cell_type": "code",
   "execution_count": 484,
   "metadata": {},
   "outputs": [],
   "source": [
    "# on determine les regex à remplacer dans le texte:\n",
    "\n",
    "#replace = re.compile('[/(){}\\[\\]\\|@,;]')\n",
    "#symbols = re.compile('[^0-9a-z #+_]')\n",
    "STOPWORDS = set(stopwords.words('english'))\n",
    "num = re.compile('^[-+]?[0-9]+$')"
   ]
  },
  {
   "cell_type": "code",
   "execution_count": 485,
   "metadata": {},
   "outputs": [],
   "source": [
    "#cleaning data funtion :\n",
    "\n",
    "def clean_text(text):\n",
    "    \n",
    "    #text = text.lower() # lowercase text\n",
    "    #text = replace.sub(' ', text) # on remplace des caractères par un espace\n",
    "    #text = symbols.sub('', text) # on supprime des symboles du texte\n",
    "    text = num.sub('',text)\n",
    "    text = ' '.join(word for word in text.split() if word not in STOPWORDS) #suppression des stop words\n",
    "    \n",
    "    return text"
   ]
  },
  {
   "cell_type": "code",
   "execution_count": 518,
   "metadata": {},
   "outputs": [
    {
     "name": "stdout",
     "output_type": "stream",
     "text": [
      "Why compilers Spain's answer Oxford English Dictionary keen get letter B?\n",
      "document: 4\n",
      "\n",
      "\n",
      "\n",
      "Why compilers Spain's answer Oxford English Dictionary keen get letter B?\n",
      "document: 4\n"
     ]
    }
   ],
   "source": [
    "#juste un teste\n",
    "\n",
    "print_plot(5)\n",
    "df['quest'] = df['quest'].apply(clean_text)\n",
    "print(\"\\n\\n\")\n",
    "print_plot(5)"
   ]
  },
  {
   "cell_type": "markdown",
   "metadata": {},
   "source": [
    "## 2.2- Stemming et Lemmetization : "
   ]
  },
  {
   "cell_type": "code",
   "execution_count": 523,
   "metadata": {},
   "outputs": [
    {
     "name": "stdout",
     "output_type": "stream",
     "text": [
      "BEFOR : \n",
      "Why abortion rights groups concerned outcome Supreme court's decision?\n",
      "\n",
      "******\n",
      "\n",
      "AFTER : \n",
      "whi abort right group concern outcom suprem court 's decis ? \n"
     ]
    }
   ],
   "source": [
    "# Stemming and lemmetization\n",
    "\n",
    "\n",
    "from nltk.stem import PorterStemmer\n",
    "from nltk.tokenize import word_tokenize\n",
    "\n",
    "questions = df['quest'].tolist()\n",
    "\n",
    "sno = nltk.stem.SnowballStemmer('english')\n",
    "lemma = nltk.wordnet.WordNetLemmatizer()\n",
    "\n",
    "\n",
    "def sentStem(text):\n",
    "    stem_sent = []\n",
    "    \n",
    "    words = word_tokenize(text)\n",
    "    \n",
    "    for w in words:\n",
    "        w = lemma.lemmatize(w)\n",
    "        stem_sent.append(sno.stem(w))\n",
    "        stem_sent.append(\" \")\n",
    "        \n",
    "    return \"\".join(stem_sent)  \n",
    "\n",
    "print(\"BEFOR : \")\n",
    "print(questions[0])\n",
    "print (\"\\n******\\n\")\n",
    "print(\"AFTER : \")\n",
    "print(sentStem(questions[0]))\n",
    "\n"
   ]
  },
  {
   "cell_type": "markdown",
   "metadata": {},
   "source": [
    "## 2.3-  Dictionnaire de correspendance  :\n"
   ]
  },
  {
   "cell_type": "raw",
   "metadata": {},
   "source": [
    "on va le créer manuellement, on aurait pu créer une colonne CATEGORYid : \n",
    "et ensuite créer les dictionnaire de correspendance : \n",
    "\n",
    "\n",
    "category_to_id = dict(category_id_df.values)\n",
    "id_to_category = dict(category_id_df[['category_id', 'category']].values)\n",
    "\n",
    "\n",
    "mais ça ne sert à rien puisque nos catégories sont déjà numériques et les titres des documents doivent être entrés manuellement "
   ]
  },
  {
   "cell_type": "code",
   "execution_count": 488,
   "metadata": {},
   "outputs": [],
   "source": [
    "# dictionnaire du in au titre du document : \n",
    "\n",
    "category_id_df = df[['document', 'category_id']].drop_duplicates().sort_values('document')\n",
    "\n",
    "id_to_doc = dict()\n",
    "id_to_doc = {  1 : 'Guardian_BigClasses.txt',\n",
    "             2: 'Guardian_Elections.txt',\n",
    "             3 : 'Guardian_McDonalds.txt',\n",
    "              4 : 'Guardian_SpanishDict.txt',\n",
    "               5 :  'Guardian_Windows3.txt',\n",
    "               6 : 'Reuters_Abortion.txt',\n",
    "               7:  'Reuters_Azerbaijan.txt',\n",
    "               8:  'Reuters_Canal.txt',\n",
    "               9:  'Reuters_Population.txt',\n",
    "               10: 'Reuters_SecretPolice.txt'}\n",
    "\n",
    "\n",
    "# dictionnaire du titre au id : \n",
    "doc_to_id = dict()\n",
    "doc_to_id = id_to_doc = { 'Guardian_BigClasses.txt':  1,\n",
    "               'Guardian_Elections.txt':  2,\n",
    "              'Guardian_McDonalds.txt': 3,\n",
    "             'Guardian_SpanishDict.txt':  4, \n",
    "               'Guardian_Windows3.txt':  5,\n",
    "             'Reuters_Abortion.txt':  6,\n",
    "             'Reuters_Azerbaijan.txt':  7,\n",
    "             'Reuters_Canal.txt':  8,\n",
    "            'Reuters_Population.txt':  9,\n",
    "             'Reuters_SecretPolice.txt':  10}\n",
    "\n"
   ]
  },
  {
   "cell_type": "raw",
   "metadata": {},
   "source": [
    "We cleaned data, prepared the dataset for ML algorithms ... let's do it !\n"
   ]
  },
  {
   "cell_type": "markdown",
   "metadata": {},
   "source": [
    "# 3) feature extraction (create the vector)"
   ]
  },
  {
   "cell_type": "code",
   "execution_count": 489,
   "metadata": {},
   "outputs": [
    {
     "data": {
      "text/plain": [
       "(394, 103)"
      ]
     },
     "execution_count": 489,
     "metadata": {},
     "output_type": "execute_result"
    }
   ],
   "source": [
    "from sklearn.feature_extraction.text import TfidfVectorizer\n",
    "\n",
    "tfidf = TfidfVectorizer(sublinear_tf=True, min_df=5, norm='l2', encoding='latin-1', ngram_range=(1, 2), stop_words='english')\n",
    "\n",
    "features = tfidf.fit_transform(df.quest).toarray()\n",
    "labels = df.document\n",
    "features.shape"
   ]
  },
  {
   "cell_type": "markdown",
   "metadata": {},
   "source": [
    "# 4) Application des algorithmes : \n"
   ]
  },
  {
   "cell_type": "markdown",
   "metadata": {},
   "source": [
    "## 4.1- Spliting dataset for training the models :"
   ]
  },
  {
   "cell_type": "code",
   "execution_count": 490,
   "metadata": {},
   "outputs": [],
   "source": [
    "from sklearn.model_selection import train_test_split\n",
    "x = df.quest\n",
    "y = df.document\n",
    "x_train, x_test, y_train, y_test = train_test_split(df['quest'], df['document'], random_state = 0)\n"
   ]
  },
  {
   "cell_type": "markdown",
   "metadata": {},
   "source": [
    "## Algo 1:  Naive bayes algo :\n"
   ]
  },
  {
   "cell_type": "code",
   "execution_count": 491,
   "metadata": {},
   "outputs": [],
   "source": [
    "\n",
    "from sklearn.feature_extraction.text import CountVectorizer\n",
    "from sklearn.feature_extraction.text import TfidfTransformer\n",
    "from sklearn.naive_bayes import MultinomialNB\n",
    "\n",
    "\n",
    "count_vect = CountVectorizer()\n",
    "\n",
    "x_train_counts = count_vect.fit_transform(x_train)\n",
    "tfidf_transformer = TfidfTransformer()\n",
    "x_train_tfidf = tfidf_transformer.fit_transform(x_train_counts)\n",
    "clf = MultinomialNB().fit(x_train_tfidf, y_train)"
   ]
  },
  {
   "cell_type": "markdown",
   "metadata": {},
   "source": [
    "## on compare 4 algorithmes : \n"
   ]
  },
  {
   "cell_type": "code",
   "execution_count": 524,
   "metadata": {},
   "outputs": [
    {
     "name": "stderr",
     "output_type": "stream",
     "text": [
      "C:\\Users\\PC\\Anaconda3\\lib\\site-packages\\sklearn\\linear_model\\logistic.py:433: FutureWarning: Default solver will be changed to 'lbfgs' in 0.22. Specify a solver to silence this warning.\n",
      "  FutureWarning)\n",
      "C:\\Users\\PC\\Anaconda3\\lib\\site-packages\\sklearn\\linear_model\\logistic.py:460: FutureWarning: Default multi_class will be changed to 'auto' in 0.22. Specify the multi_class option to silence this warning.\n",
      "  \"this warning.\", FutureWarning)\n",
      "C:\\Users\\PC\\Anaconda3\\lib\\site-packages\\sklearn\\linear_model\\logistic.py:433: FutureWarning: Default solver will be changed to 'lbfgs' in 0.22. Specify a solver to silence this warning.\n",
      "  FutureWarning)\n",
      "C:\\Users\\PC\\Anaconda3\\lib\\site-packages\\sklearn\\linear_model\\logistic.py:460: FutureWarning: Default multi_class will be changed to 'auto' in 0.22. Specify the multi_class option to silence this warning.\n",
      "  \"this warning.\", FutureWarning)\n",
      "C:\\Users\\PC\\Anaconda3\\lib\\site-packages\\sklearn\\linear_model\\logistic.py:433: FutureWarning: Default solver will be changed to 'lbfgs' in 0.22. Specify a solver to silence this warning.\n",
      "  FutureWarning)\n",
      "C:\\Users\\PC\\Anaconda3\\lib\\site-packages\\sklearn\\linear_model\\logistic.py:460: FutureWarning: Default multi_class will be changed to 'auto' in 0.22. Specify the multi_class option to silence this warning.\n",
      "  \"this warning.\", FutureWarning)\n",
      "C:\\Users\\PC\\Anaconda3\\lib\\site-packages\\sklearn\\linear_model\\logistic.py:433: FutureWarning: Default solver will be changed to 'lbfgs' in 0.22. Specify a solver to silence this warning.\n",
      "  FutureWarning)\n",
      "C:\\Users\\PC\\Anaconda3\\lib\\site-packages\\sklearn\\linear_model\\logistic.py:460: FutureWarning: Default multi_class will be changed to 'auto' in 0.22. Specify the multi_class option to silence this warning.\n",
      "  \"this warning.\", FutureWarning)\n",
      "C:\\Users\\PC\\Anaconda3\\lib\\site-packages\\sklearn\\linear_model\\logistic.py:433: FutureWarning: Default solver will be changed to 'lbfgs' in 0.22. Specify a solver to silence this warning.\n",
      "  FutureWarning)\n",
      "C:\\Users\\PC\\Anaconda3\\lib\\site-packages\\sklearn\\linear_model\\logistic.py:460: FutureWarning: Default multi_class will be changed to 'auto' in 0.22. Specify the multi_class option to silence this warning.\n",
      "  \"this warning.\", FutureWarning)\n"
     ]
    }
   ],
   "source": [
    "from sklearn.linear_model import LogisticRegression\n",
    "from sklearn.ensemble import RandomForestClassifier\n",
    "from sklearn.svm import LinearSVC\n",
    "from sklearn.model_selection import cross_val_score\n",
    "import seaborn as sns\n",
    "\n",
    "    #****************************************\n",
    "# on crée un lite des model que nous voulons comparer :\n",
    "\n",
    "models = [\n",
    "    RandomForestClassifier(n_estimators=200, max_depth=3, random_state=0),\n",
    "    LinearSVC(),\n",
    "    MultinomialNB(),\n",
    "    LogisticRegression(random_state=0),\n",
    "]\n",
    "\n",
    "CV = 5\n",
    "cv_df = pd.DataFrame(index=range(CV * len(models)))\n",
    "entries = []\n",
    "\n",
    "for model in models:\n",
    "    model_name = model.__class__.__name__\n",
    "    accuracies = cross_val_score(model, features, labels, scoring='accuracy', cv=CV)\n",
    "    for fold_idx, accuracy in enumerate(accuracies):\n",
    "        entries.append((model_name, fold_idx, accuracy))\n",
    "\n",
    "        \n"
   ]
  },
  {
   "cell_type": "code",
   "execution_count": 525,
   "metadata": {},
   "outputs": [
    {
     "name": "stdout",
     "output_type": "stream",
     "text": [
      "                model_name  fold_idx  accuracy\n",
      "0   RandomForestClassifier         0  0.530120\n",
      "1   RandomForestClassifier         1  0.556962\n",
      "2   RandomForestClassifier         2  0.569620\n",
      "3   RandomForestClassifier         3  0.610390\n",
      "4   RandomForestClassifier         4  0.565789\n",
      "5                LinearSVC         0  0.807229\n",
      "6                LinearSVC         1  0.734177\n",
      "7                LinearSVC         2  0.860759\n",
      "8                LinearSVC         3  0.896104\n",
      "9                LinearSVC         4  0.855263\n",
      "10           MultinomialNB         0  0.807229\n",
      "11           MultinomialNB         1  0.734177\n",
      "12           MultinomialNB         2  0.873418\n",
      "13           MultinomialNB         3  0.857143\n",
      "14           MultinomialNB         4  0.802632\n",
      "15      LogisticRegression         0  0.783133\n",
      "16      LogisticRegression         1  0.746835\n",
      "17      LogisticRegression         2  0.848101\n",
      "18      LogisticRegression         3  0.896104\n",
      "19      LogisticRegression         4  0.802632\n"
     ]
    },
    {
     "data": {
      "image/png": "[encoded data removed]",
      "text/plain": [
       "<Figure size 432x288 with 1 Axes>"
      ]
     },
     "metadata": {
      "needs_background": "light"
     },
     "output_type": "display_data"
    }
   ],
   "source": [
    "#on crée une datafram pour stocker les résultats des models :        \n",
    "cv_df = pd.DataFrame(entries, columns=['model_name', 'fold_idx', 'accuracy']) \n",
    "\n",
    "print(cv_df)\n",
    "\n",
    "sns.boxplot(x='model_name', y='accuracy', data=cv_df)\n",
    "\n",
    "sns.stripplot(x='model_name', y='accuracy', data=cv_df, \n",
    "              size=8, jitter=True, edgecolor=\"grey\", linewidth=2)\n",
    "plt.show()\n"
   ]
  },
  {
   "cell_type": "markdown",
   "metadata": {},
   "source": [
    "# évaluation du model :\n"
   ]
  },
  {
   "cell_type": "code",
   "execution_count": 500,
   "metadata": {},
   "outputs": [
    {
     "data": {
      "image/png": "[encoded data removed]",
      "text/plain": [
       "<Figure size 720x720 with 2 Axes>"
      ]
     },
     "metadata": {
      "needs_background": "light"
     },
     "output_type": "display_data"
    }
   ],
   "source": [
    "#linear SVC : \n",
    "from sklearn.metrics import confusion_matrix\n",
    "\n",
    "\n",
    "model = LinearSVC()\n",
    "\n",
    "x_train, x_test, y_train, y_test, indices_train, indices_test = train_test_split(features, labels, df.index, test_size=0.33, random_state=0)\n",
    "model.fit(x_train, y_train)\n",
    "y_pred = model.predict(x_test)\n",
    "\n",
    "#print(category_id_df)\n",
    "\n",
    "conf_mat = confusion_matrix(y_test, y_pred)\n",
    "fig, ax = plt.subplots(figsize=(10,10))\n",
    "sns.heatmap(conf_mat, annot=True, fmt='d',\n",
    "            xticklabels=category_id_df.document.values, yticklabels=category_id_df.document.values)\n",
    "plt.ylabel('Actual')\n",
    "plt.xlabel('Predicted')\n",
    "plt.show()"
   ]
  },
  {
   "cell_type": "code",
   "execution_count": null,
   "metadata": {},
   "outputs": [],
   "source": []
  },
  {
   "cell_type": "code",
   "execution_count": null,
   "metadata": {},
   "outputs": [],
   "source": []
  }
 ],
 "metadata": {
  "kernelspec": {
   "display_name": "Python 3",
   "language": "python",
   "name": "python3"
  },
  "language_info": {
   "codemirror_mode": {
    "name": "ipython",
    "version": 3
   },
   "file_extension": ".py",
   "mimetype": "text/x-python",
   "name": "python",
   "nbconvert_exporter": "python",
   "pygments_lexer": "ipython3",
   "version": "3.7.1"
  }
 },
 "nbformat": 4,
 "nbformat_minor": 2
}
